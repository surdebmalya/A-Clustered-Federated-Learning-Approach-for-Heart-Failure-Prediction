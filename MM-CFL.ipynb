{
  "nbformat": 4,
  "nbformat_minor": 0,
  "metadata": {
    "colab": {
      "provenance": []
    },
    "kernelspec": {
      "name": "python3",
      "display_name": "Python 3"
    },
    "language_info": {
      "name": "python"
    }
  },
  "cells": [
    {
      "cell_type": "code",
      "execution_count": null,
      "metadata": {
        "id": "p-mQy4uoPJ_V"
      },
      "outputs": [],
      "source": [
        "import pandas as pd\n",
        "import numpy as np\n",
        "import random\n",
        "import math\n",
        "import seaborn as sns\n",
        "from sklearn.preprocessing import StandardScaler\n",
        "from sklearn.model_selection import train_test_split"
      ]
    },
    {
      "cell_type": "code",
      "source": [
        "from google.colab import drive\n",
        "drive.mount('/content/drive')"
      ],
      "metadata": {
        "colab": {
          "base_uri": "https://localhost:8080/"
        },
        "id": "DrPxr0-XWTmz",
        "outputId": "5c2c3b65-6113-469b-f992-e0e18dff2143"
      },
      "execution_count": null,
      "outputs": [
        {
          "output_type": "stream",
          "name": "stdout",
          "text": [
            "Drive already mounted at /content/drive; to attempt to forcibly remount, call drive.mount(\"/content/drive\", force_remount=True).\n"
          ]
        }
      ]
    },
    {
      "cell_type": "markdown",
      "source": [
        "dataset link: [subset of research dataset](https://www.kaggle.com/datasets/fedesoriano/heart-failure-prediction/)"
      ],
      "metadata": {
        "id": "4Jj8_4EjsTmo"
      }
    },
    {
      "cell_type": "code",
      "source": [
        "data = pd.read_csv('/content/drive/MyDrive/thesis/dataset/preprocessed_data.csv')\n",
        "data = data[data.columns[1:]]\n",
        "\n",
        "# # making testing data: last 100 unseen\n",
        "# test_data = data.loc[data.shape[0]-100:]\n",
        "# data = data[:data.shape[0]-101]"
      ],
      "metadata": {
        "id": "e2w-wjVRWVP5"
      },
      "execution_count": null,
      "outputs": []
    },
    {
      "cell_type": "code",
      "source": [
        "class DataDistribution:\n",
        "  def __init__(self, showing_intermediate_steps = False):\n",
        "    self.showing_intermediate_steps = showing_intermediate_steps\n",
        "    self.synthetically_distributed_data = None\n",
        "\n",
        "  def error_handling(self, splitting, number_of_clusters):\n",
        "    sum = 0\n",
        "    for i in splitting:\n",
        "      sum+=i\n",
        "    if len(splitting)==number_of_clusters and sum==1.0:\n",
        "      return True\n",
        "    else:\n",
        "      return False\n",
        "\n",
        "  def scale_training_X(self, x):\n",
        "    scaling = StandardScaler()\n",
        "    x = scaling.fit_transform(x)\n",
        "    return x\n",
        "\n",
        "  def setup(self, data, number_of_clusters, number_of_clients_in_each_cluster, splitting):\n",
        "    if self.error_handling(splitting, number_of_clusters)==False:\n",
        "      raise Exception(f\"there is some error in splitting, please follow the standards\")\n",
        "\n",
        "    splitting.pop()\n",
        "    total_data = data.shape[0]\n",
        "    temp_index = []\n",
        "    count = 0\n",
        "    for frac in splitting:\n",
        "      count += frac\n",
        "      temp_index.append(math.floor(count*total_data))\n",
        "    temp_index.append(total_data-1)\n",
        "    splitting = temp_index\n",
        "\n",
        "    if self.showing_intermediate_steps:\n",
        "      print(splitting)\n",
        "\n",
        "    splitting_index = []\n",
        "    starting = 0\n",
        "    for i in splitting:\n",
        "      temp = [starting, i]\n",
        "      starting = i + 1\n",
        "      splitting_index.append(temp)\n",
        "\n",
        "    if self.showing_intermediate_steps:\n",
        "      print(splitting_index)\n",
        "\n",
        "    splitting_index_with_cluster_clients = []\n",
        "    for cluster_index in splitting_index:\n",
        "      starting = cluster_index[0]\n",
        "      ending = cluster_index[1]\n",
        "      data_per_client = math.floor((ending-starting+1) / number_of_clients_in_each_cluster)\n",
        "      subending = starting\n",
        "      for _ in range(number_of_clients_in_each_cluster):\n",
        "        subending += data_per_client\n",
        "        temp = [starting, subending]\n",
        "        splitting_index_with_cluster_clients.append(temp)\n",
        "        starting = subending + 1\n",
        "\n",
        "    if self.showing_intermediate_steps:\n",
        "      print(splitting_index_with_cluster_clients)\n",
        "\n",
        "    curr_counter = 0\n",
        "    cluster_client_data = []\n",
        "    for i in range(number_of_clusters):\n",
        "      cluster_data = []\n",
        "      for j in range(number_of_clients_in_each_cluster):\n",
        "        starting_index = splitting_index_with_cluster_clients[curr_counter][0]\n",
        "        ending_index = splitting_index_with_cluster_clients[curr_counter][1]\n",
        "        curr_client_data = data.loc[starting_index:ending_index]\n",
        "        x = curr_client_data.drop('HeartDisease',axis=1)\n",
        "        y = curr_client_data.HeartDisease\n",
        "        x = self.scale_training_X(x)\n",
        "        curr_client_data_X_Y = [x, y]\n",
        "        curr_counter += 1\n",
        "        cluster_data.append(curr_client_data_X_Y)\n",
        "      cluster_client_data.append(cluster_data)\n",
        "\n",
        "    self.synthetically_distributed_data = cluster_client_data\n",
        "    print(f\"data distributed synthetically!\")"
      ],
      "metadata": {
        "id": "ob6hx5m2WVIi"
      },
      "execution_count": null,
      "outputs": []
    },
    {
      "cell_type": "code",
      "source": [
        "from sklearn.linear_model import LogisticRegression, Perceptron, RidgeClassifier, SGDClassifier\n",
        "\n",
        "class Model1:\n",
        "  def __init__(self):\n",
        "    m = LogisticRegression()\n",
        "    self.model = m\n",
        "    self.name = 'LogisticRegression'\n",
        "\n",
        "  def fit(self, x_train, y_train):\n",
        "    self.model.fit(x_train, y_train)\n",
        "\n",
        "  def score(self, x, y):\n",
        "    return self.model.score(x, y)\n",
        "\n",
        "  def get_name(self):\n",
        "    return self.name\n",
        "\n",
        "  def get_coef(self):\n",
        "    print(self.model.coef_)\n",
        "\n",
        "class Model2:\n",
        "  def __init__(self):\n",
        "    m = RidgeClassifier()\n",
        "    self.model = m\n",
        "    self.name = 'RidgeClassifier'\n",
        "\n",
        "  def fit(self, x_train, y_train):\n",
        "    self.model.fit(x_train, y_train)\n",
        "\n",
        "  def score(self, x, y):\n",
        "    return self.model.score(x, y)\n",
        "\n",
        "  def get_name(self):\n",
        "    return self.name\n",
        "\n",
        "  def get_coef(self):\n",
        "    print(self.model.coef_)\n",
        "\n",
        "class Model3:\n",
        "  def __init__(self):\n",
        "    m = SGDClassifier()\n",
        "    self.model = m\n",
        "    self.name = 'SGDClassifier'\n",
        "\n",
        "  def fit(self, x_train, y_train):\n",
        "    self.model.fit(x_train, y_train)\n",
        "\n",
        "  def score(self, x, y):\n",
        "    return self.model.score(x, y)\n",
        "\n",
        "  def get_name(self):\n",
        "    return self.name\n",
        "\n",
        "  def get_coef(self):\n",
        "    print(self.model.coef_)"
      ],
      "metadata": {
        "id": "3JUqrCy-WVCa"
      },
      "execution_count": null,
      "outputs": []
    },
    {
      "cell_type": "code",
      "source": [
        "class MultiModelCFL:\n",
        "  def __init__(self, data, number_of_clusters, number_of_clients_in_each_cluster, number_of_clusters_every_iteration, splitting):\n",
        "    self.number_of_clusters = number_of_clusters\n",
        "    self.number_of_clients_in_each_cluster = number_of_clients_in_each_cluster\n",
        "    self.number_of_clusters_every_iteration = number_of_clusters_every_iteration\n",
        "    self.splitting = splitting\n",
        "    if self.error_handling()==False:\n",
        "      raise Exception(f\"something went wrong, please follow the standards\")\n",
        "    data_dist = DataDistribution()\n",
        "    data_dist.setup(data, self.number_of_clusters, self.number_of_clients_in_each_cluster, self.splitting)\n",
        "    self.synthetically_distributed_data = data_dist\n",
        "    print(f\"setup is ready to be executed!\")\n",
        "\n",
        "  def error_handling(self):\n",
        "    if(self.number_of_clusters<=0 or \\\n",
        "       self.number_of_clients_in_each_cluster<=0 or \\\n",
        "       self.number_of_clusters_every_iteration<=0 or \\\n",
        "       self.number_of_clusters_every_iteration>self.number_of_clusters):\n",
        "      return False\n",
        "\n",
        "  def cluster_selection_algo(self):\n",
        "    selected_clusters = []\n",
        "    count = 0\n",
        "    while(count<self.number_of_clusters_every_iteration):\n",
        "      current_cluster_number = random.randint(0, self.number_of_clusters-1)\n",
        "      if current_cluster_number not in selected_clusters:\n",
        "        selected_clusters.append(current_cluster_number)\n",
        "        count = count + 1\n",
        "    return selected_clusters\n",
        "\n",
        "  def model_selection_algo(self):\n",
        "    current_model_index = random.randint(0, self.number_of_models-1)\n",
        "    return current_model_index\n",
        "\n",
        "  def client_level_aggregation_algo(self, client_level_models):\n",
        "    result = client_level_models[0]\n",
        "    for i in range(len(client_level_models)):\n",
        "      result = np.add(result, client_level_models[i])\n",
        "    result = result / len(client_level_models)\n",
        "    print(result)\n",
        "    return result\n",
        "\n",
        "  def cluster_level_aggregation_algo(self, cluster_level_models, current_model_index):\n",
        "    result = cluster_level_models[0]\n",
        "    for i in range(len(cluster_level_models)):\n",
        "      result = np.add(result, cluster_level_models[i])\n",
        "    result = result / len(cluster_level_models)\n",
        "    self.global_models[current_model_index].model.coef_ = result\n",
        "\n",
        "  def execute(self, number_of_iterations):\n",
        "    # initiate the global models (number of global models can be 3)\n",
        "    self.number_of_models = 3\n",
        "    self.global_models = []\n",
        "    for index in range(self.number_of_models):\n",
        "      if index==0:\n",
        "        self.global_models.append(Model1())\n",
        "      elif index==1:\n",
        "        self.global_models.append(Model2())\n",
        "      else:\n",
        "        self.global_models.append(Model3())\n",
        "\n",
        "    # strategy: for one iteration the algorithm is using one algorithm only for all of the clients\n",
        "\n",
        "    count = 0\n",
        "    for itr in range(number_of_iterations):\n",
        "      current_model_index = self.model_selection_algo()\n",
        "      current_model = self.global_models[current_model_index]\n",
        "      cluster_indices = self.cluster_selection_algo()\n",
        "      cluster_level_models = []\n",
        "      for cluster_index in cluster_indices:\n",
        "        client_level_models = []\n",
        "        for client_index in range(self.number_of_clients_in_each_cluster):\n",
        "          current_client_data = self.synthetically_distributed_data.synthetically_distributed_data[cluster_index][client_index]\n",
        "          current_client_X = current_client_data[0]\n",
        "          current_client_Y = current_client_data[1]\n",
        "          current_model.fit(current_client_X, current_client_Y)\n",
        "          s = current_model.score(current_client_X, current_client_Y)\n",
        "          print(f\"iteration: {count+1} || cluster number: {cluster_index+1} || client number: {client_index+1} || model: {current_model.get_name()} || score: {s}\")\n",
        "          count += 1\n",
        "          client_level_models.append(current_model.model.coef_)\n",
        "        coef = self.client_level_aggregation_algo(client_level_models)\n",
        "        cluster_level_models.append(coef)\n",
        "      self.cluster_level_aggregation_algo(cluster_level_models, current_model_index)\n",
        "    print(f\"architecture executed successfully!\")\n",
        "\n",
        "  def _scale_training_X(self, x):\n",
        "    scaling = StandardScaler()\n",
        "    x = scaling.fit_transform(x)\n",
        "    return x\n",
        "\n",
        "  def voting(self, predictions):\n",
        "    sum = predictions[0]\n",
        "    for i in range(1, len(predictions)):\n",
        "      sum = np.add(sum, predictions[i])\n",
        "    result = (sum > (len(predictions) / 2)).astype(int)\n",
        "    return result\n",
        "\n",
        "  def calculate_score_testing(self, final_prediction, y):\n",
        "    y = y.to_numpy()\n",
        "    matching_elements = np.sum(final_prediction == y)\n",
        "    score = matching_elements / len(final_prediction)\n",
        "    return score\n",
        "\n",
        "  def predict(self, df):\n",
        "    x = df.drop('HeartDisease',axis=1)\n",
        "    y = df.HeartDisease\n",
        "    x = self._scale_training_X(x)\n",
        "    predictions = []\n",
        "    for index in range(self.number_of_models):\n",
        "      s = self.global_models[0].model.predict(x)\n",
        "      predictions.append(s)\n",
        "    final_prediction = self.voting(predictions)\n",
        "    score = self.calculate_score_testing(final_prediction, y)\n",
        "    return score"
      ],
      "metadata": {
        "id": "N1sDWSfYpFUS"
      },
      "execution_count": null,
      "outputs": []
    },
    {
      "cell_type": "code",
      "source": [
        "mmcfl = MultiModelCFL(data, 3, 2, 2, [0.5, 0.3, 0.2])"
      ],
      "metadata": {
        "colab": {
          "base_uri": "https://localhost:8080/"
        },
        "id": "zySz2C-zvf0z",
        "outputId": "c6166bf2-b56c-49e1-c780-bcfd1b329a8e"
      },
      "execution_count": null,
      "outputs": [
        {
          "output_type": "stream",
          "name": "stdout",
          "text": [
            "data distributed synthetically!\n",
            "setup is ready to be executed!\n"
          ]
        }
      ]
    },
    {
      "cell_type": "code",
      "source": [
        "mmcfl.execute(10)"
      ],
      "metadata": {
        "colab": {
          "base_uri": "https://localhost:8080/"
        },
        "id": "ke6QSWAmwZlQ",
        "outputId": "2d6d74e3-3e7e-4006-bd58-0d8fdf64bbd1"
      },
      "execution_count": null,
      "outputs": [
        {
          "output_type": "stream",
          "name": "stdout",
          "text": [
            "iteration: 1 || cluster number: 2 || client number: 1 || model: RidgeClassifier || score: 0.9057971014492754\n",
            "iteration: 2 || cluster number: 2 || client number: 2 || model: RidgeClassifier || score: 0.8102189781021898\n",
            "[[ 0.03814735 -0.16324741  0.19303315  0.07752907 -0.02382248  0.04393618\n",
            "   0.04341956 -0.21848717 -0.24971646  0.1889617   0.4075732 ]]\n",
            "iteration: 3 || cluster number: 3 || client number: 1 || model: RidgeClassifier || score: 0.8804347826086957\n",
            "iteration: 4 || cluster number: 3 || client number: 2 || model: RidgeClassifier || score: 0.8681318681318682\n",
            "[[ 0.23000706 -0.43246735  0.29564532  0.04605559  0.02450925 -0.06033144\n",
            "   0.05371288  0.00523752 -0.40849944  0.25784449  0.30012875]]\n",
            "iteration: 5 || cluster number: 1 || client number: 1 || model: LogisticRegression || score: 0.9437229437229437\n",
            "iteration: 6 || cluster number: 1 || client number: 2 || model: LogisticRegression || score: 0.9260869565217391\n",
            "[[-0.40138565 -0.7696251   0.78717809  0.55613482 -0.2526454   1.28762607\n",
            "   0.02452036 -0.27487777 -0.09361562  0.02761915  3.81382688]]\n",
            "iteration: 7 || cluster number: 2 || client number: 1 || model: LogisticRegression || score: 0.9057971014492754\n",
            "iteration: 8 || cluster number: 2 || client number: 2 || model: LogisticRegression || score: 0.8175182481751825\n",
            "[[ 0.29325985 -0.56585027  0.60073337  0.25056138 -0.27076196  0.19900682\n",
            "   0.21267292 -0.73982779 -1.02382014  0.65200276  1.17167404]]\n",
            "iteration: 9 || cluster number: 1 || client number: 1 || model: LogisticRegression || score: 0.9437229437229437\n",
            "iteration: 10 || cluster number: 1 || client number: 2 || model: LogisticRegression || score: 0.9260869565217391\n",
            "[[-0.40138565 -0.7696251   0.78717809  0.55613482 -0.2526454   1.28762607\n",
            "   0.02452036 -0.27487777 -0.09361562  0.02761915  3.81382688]]\n",
            "iteration: 11 || cluster number: 2 || client number: 1 || model: LogisticRegression || score: 0.9057971014492754\n",
            "iteration: 12 || cluster number: 2 || client number: 2 || model: LogisticRegression || score: 0.8175182481751825\n",
            "[[ 0.29325985 -0.56585027  0.60073337  0.25056138 -0.27076196  0.19900682\n",
            "   0.21267292 -0.73982779 -1.02382014  0.65200276  1.17167404]]\n",
            "iteration: 13 || cluster number: 2 || client number: 1 || model: SGDClassifier || score: 0.8478260869565217\n",
            "iteration: 14 || cluster number: 2 || client number: 2 || model: SGDClassifier || score: 0.7591240875912408\n",
            "[[  7.09159847  -8.86858242   6.06123306   5.26847858  -8.91593654\n",
            "    2.11264692   4.68363613  -0.20464796 -10.23000086   8.20932325\n",
            "   12.72263538]]\n",
            "iteration: 15 || cluster number: 1 || client number: 1 || model: SGDClassifier || score: 0.9264069264069265\n",
            "iteration: 16 || cluster number: 1 || client number: 2 || model: SGDClassifier || score: 0.8608695652173913\n",
            "[[-3.09667205 -4.09773477  3.78854682  4.94495944 -3.01121325 11.48847004\n",
            "   2.49588824 -3.0663287   3.2048581   3.59101397 49.38745701]]\n",
            "iteration: 17 || cluster number: 3 || client number: 1 || model: LogisticRegression || score: 0.8913043478260869\n",
            "iteration: 18 || cluster number: 3 || client number: 2 || model: LogisticRegression || score: 0.8681318681318682\n",
            "[[ 0.7011539  -1.77178791  1.07488983  0.39009216  0.23548195 -0.26156724\n",
            "   0.27720537 -0.35734628 -1.26043108  1.03889801  0.95966174]]\n",
            "iteration: 19 || cluster number: 1 || client number: 1 || model: LogisticRegression || score: 0.9437229437229437\n",
            "iteration: 20 || cluster number: 1 || client number: 2 || model: LogisticRegression || score: 0.9260869565217391\n",
            "[[-0.40138565 -0.7696251   0.78717809  0.55613482 -0.2526454   1.28762607\n",
            "   0.02452036 -0.27487777 -0.09361562  0.02761915  3.81382688]]\n",
            "iteration: 21 || cluster number: 2 || client number: 1 || model: RidgeClassifier || score: 0.9057971014492754\n",
            "iteration: 22 || cluster number: 2 || client number: 2 || model: RidgeClassifier || score: 0.8102189781021898\n",
            "[[ 0.03814735 -0.16324741  0.19303315  0.07752907 -0.02382248  0.04393618\n",
            "   0.04341956 -0.21848717 -0.24971646  0.1889617   0.4075732 ]]\n",
            "iteration: 23 || cluster number: 1 || client number: 1 || model: RidgeClassifier || score: 0.9307359307359307\n",
            "iteration: 24 || cluster number: 1 || client number: 2 || model: RidgeClassifier || score: 0.9260869565217391\n",
            "[[-0.0535565  -0.10870641  0.14303786  0.05222022 -0.08415197  0.1845959\n",
            "   0.01419759 -0.02466509 -0.03447101  0.01747271  0.96751182]]\n",
            "iteration: 25 || cluster number: 2 || client number: 1 || model: RidgeClassifier || score: 0.9057971014492754\n",
            "iteration: 26 || cluster number: 2 || client number: 2 || model: RidgeClassifier || score: 0.8102189781021898\n",
            "[[ 0.03814735 -0.16324741  0.19303315  0.07752907 -0.02382248  0.04393618\n",
            "   0.04341956 -0.21848717 -0.24971646  0.1889617   0.4075732 ]]\n",
            "iteration: 27 || cluster number: 3 || client number: 1 || model: RidgeClassifier || score: 0.8804347826086957\n",
            "iteration: 28 || cluster number: 3 || client number: 2 || model: RidgeClassifier || score: 0.8681318681318682\n",
            "[[ 0.23000706 -0.43246735  0.29564532  0.04605559  0.02450925 -0.06033144\n",
            "   0.05371288  0.00523752 -0.40849944  0.25784449  0.30012875]]\n",
            "iteration: 29 || cluster number: 2 || client number: 1 || model: SGDClassifier || score: 0.8768115942028986\n",
            "iteration: 30 || cluster number: 2 || client number: 2 || model: SGDClassifier || score: 0.7664233576642335\n",
            "[[  0.59522599  -0.20254711   8.94964244   8.520595    -2.48076263\n",
            "   -3.91659932   4.58272632 -12.44196822  -6.05374038   0.52668941\n",
            "   12.61287007]]\n",
            "iteration: 31 || cluster number: 1 || client number: 1 || model: SGDClassifier || score: 0.9177489177489178\n",
            "iteration: 32 || cluster number: 1 || client number: 2 || model: SGDClassifier || score: 0.8956521739130435\n",
            "[[-2.05337635 -5.71231422  2.98001096  2.72842448 -1.25060436 16.35898266\n",
            "  -0.13576546 -0.66712612  0.51082843  1.65613917 34.40969076]]\n",
            "iteration: 33 || cluster number: 1 || client number: 1 || model: RidgeClassifier || score: 0.9307359307359307\n",
            "iteration: 34 || cluster number: 1 || client number: 2 || model: RidgeClassifier || score: 0.9260869565217391\n",
            "[[-0.0535565  -0.10870641  0.14303786  0.05222022 -0.08415197  0.1845959\n",
            "   0.01419759 -0.02466509 -0.03447101  0.01747271  0.96751182]]\n",
            "iteration: 35 || cluster number: 3 || client number: 1 || model: RidgeClassifier || score: 0.8804347826086957\n",
            "iteration: 36 || cluster number: 3 || client number: 2 || model: RidgeClassifier || score: 0.8681318681318682\n",
            "[[ 0.23000706 -0.43246735  0.29564532  0.04605559  0.02450925 -0.06033144\n",
            "   0.05371288  0.00523752 -0.40849944  0.25784449  0.30012875]]\n",
            "iteration: 37 || cluster number: 2 || client number: 1 || model: RidgeClassifier || score: 0.9057971014492754\n",
            "iteration: 38 || cluster number: 2 || client number: 2 || model: RidgeClassifier || score: 0.8102189781021898\n",
            "[[ 0.03814735 -0.16324741  0.19303315  0.07752907 -0.02382248  0.04393618\n",
            "   0.04341956 -0.21848717 -0.24971646  0.1889617   0.4075732 ]]\n",
            "iteration: 39 || cluster number: 1 || client number: 1 || model: RidgeClassifier || score: 0.9307359307359307\n",
            "iteration: 40 || cluster number: 1 || client number: 2 || model: RidgeClassifier || score: 0.9260869565217391\n",
            "[[-0.0535565  -0.10870641  0.14303786  0.05222022 -0.08415197  0.1845959\n",
            "   0.01419759 -0.02466509 -0.03447101  0.01747271  0.96751182]]\n",
            "architecture executed successfully!\n"
          ]
        }
      ]
    },
    {
      "cell_type": "code",
      "source": [
        "mmcfl.predict(data)"
      ],
      "metadata": {
        "colab": {
          "base_uri": "https://localhost:8080/"
        },
        "id": "JHj5nh2i3nDJ",
        "outputId": "a603b7e2-84cd-4c5d-f4b0-4bc589d4553b"
      },
      "execution_count": null,
      "outputs": [
        {
          "output_type": "execute_result",
          "data": {
            "text/plain": [
              "0.8474945533769063"
            ]
          },
          "metadata": {},
          "execution_count": 48
        }
      ]
    },
    {
      "cell_type": "code",
      "source": [],
      "metadata": {
        "id": "ls4blrBd4EW7"
      },
      "execution_count": null,
      "outputs": []
    }
  ]
}