{
  "nbformat": 4,
  "nbformat_minor": 0,
  "metadata": {
    "colab": {
      "provenance": []
    },
    "kernelspec": {
      "name": "python3",
      "display_name": "Python 3"
    },
    "language_info": {
      "name": "python"
    },
    "accelerator": "TPU"
  },
  "cells": [
    {
      "cell_type": "code",
      "source": [
        "import pandas as pd\n",
        "import numpy as np\n",
        "import random\n",
        "import math\n",
        "from tensorflow.keras.models import Sequential\n",
        "from tensorflow.keras.layers import Dense, Dropout\n",
        "import matplotlib.pyplot as plt\n",
        "from sklearn.metrics import confusion_matrix\n",
        "import seaborn as sns\n",
        "import matplotlib.pyplot as plt"
      ],
      "metadata": {
        "id": "yX4oQVl4qSM5"
      },
      "execution_count": null,
      "outputs": []
    },
    {
      "cell_type": "code",
      "source": [
        "from google.colab import drive\n",
        "drive.mount('/content/drive')"
      ],
      "metadata": {
        "colab": {
          "base_uri": "https://localhost:8080/"
        },
        "id": "JEdtGRdrqKLA",
        "outputId": "ea50ff72-d4a8-486d-acdd-32903706ffdd"
      },
      "execution_count": null,
      "outputs": [
        {
          "output_type": "stream",
          "name": "stdout",
          "text": [
            "Mounted at /content/drive\n"
          ]
        }
      ]
    },
    {
      "cell_type": "code",
      "source": [
        "data = pd.read_csv('/content/drive/MyDrive/thesis/dataset/preprocessed_data.csv')\n",
        "# actual dataset: https://www.kaggle.com/datasets/fedesoriano/heart-failure-prediction/\n",
        "data = data[data.columns[1:]]\n",
        "data.head(3)"
      ],
      "metadata": {
        "colab": {
          "base_uri": "https://localhost:8080/",
          "height": 143
        },
        "id": "1IFd8H8wqUaG",
        "outputId": "23253306-2bdf-4e4a-b3b6-b1feae4dd4c4"
      },
      "execution_count": null,
      "outputs": [
        {
          "output_type": "execute_result",
          "data": {
            "text/plain": [
              "   Age  Sex  ChestPainType  RestingBP  Cholesterol  FastingBS  RestingECG  \\\n",
              "0   40    0              1        140          289          0           0   \n",
              "1   49    1              2        160          180          0           0   \n",
              "2   37    0              1        130          283          0           2   \n",
              "\n",
              "   MaxHR  ExerciseAngina  Oldpeak  ST_Slope  HeartDisease  \n",
              "0    172               1      0.0         0             0  \n",
              "1    156               1      1.0         2             1  \n",
              "2     98               1      0.0         0             0  "
            ],
            "text/html": [
              "\n",
              "  <div id=\"df-cf588982-5ad0-4d7d-9c32-4b4f994a7e0c\" class=\"colab-df-container\">\n",
              "    <div>\n",
              "<style scoped>\n",
              "    .dataframe tbody tr th:only-of-type {\n",
              "        vertical-align: middle;\n",
              "    }\n",
              "\n",
              "    .dataframe tbody tr th {\n",
              "        vertical-align: top;\n",
              "    }\n",
              "\n",
              "    .dataframe thead th {\n",
              "        text-align: right;\n",
              "    }\n",
              "</style>\n",
              "<table border=\"1\" class=\"dataframe\">\n",
              "  <thead>\n",
              "    <tr style=\"text-align: right;\">\n",
              "      <th></th>\n",
              "      <th>Age</th>\n",
              "      <th>Sex</th>\n",
              "      <th>ChestPainType</th>\n",
              "      <th>RestingBP</th>\n",
              "      <th>Cholesterol</th>\n",
              "      <th>FastingBS</th>\n",
              "      <th>RestingECG</th>\n",
              "      <th>MaxHR</th>\n",
              "      <th>ExerciseAngina</th>\n",
              "      <th>Oldpeak</th>\n",
              "      <th>ST_Slope</th>\n",
              "      <th>HeartDisease</th>\n",
              "    </tr>\n",
              "  </thead>\n",
              "  <tbody>\n",
              "    <tr>\n",
              "      <th>0</th>\n",
              "      <td>40</td>\n",
              "      <td>0</td>\n",
              "      <td>1</td>\n",
              "      <td>140</td>\n",
              "      <td>289</td>\n",
              "      <td>0</td>\n",
              "      <td>0</td>\n",
              "      <td>172</td>\n",
              "      <td>1</td>\n",
              "      <td>0.0</td>\n",
              "      <td>0</td>\n",
              "      <td>0</td>\n",
              "    </tr>\n",
              "    <tr>\n",
              "      <th>1</th>\n",
              "      <td>49</td>\n",
              "      <td>1</td>\n",
              "      <td>2</td>\n",
              "      <td>160</td>\n",
              "      <td>180</td>\n",
              "      <td>0</td>\n",
              "      <td>0</td>\n",
              "      <td>156</td>\n",
              "      <td>1</td>\n",
              "      <td>1.0</td>\n",
              "      <td>2</td>\n",
              "      <td>1</td>\n",
              "    </tr>\n",
              "    <tr>\n",
              "      <th>2</th>\n",
              "      <td>37</td>\n",
              "      <td>0</td>\n",
              "      <td>1</td>\n",
              "      <td>130</td>\n",
              "      <td>283</td>\n",
              "      <td>0</td>\n",
              "      <td>2</td>\n",
              "      <td>98</td>\n",
              "      <td>1</td>\n",
              "      <td>0.0</td>\n",
              "      <td>0</td>\n",
              "      <td>0</td>\n",
              "    </tr>\n",
              "  </tbody>\n",
              "</table>\n",
              "</div>\n",
              "    <div class=\"colab-df-buttons\">\n",
              "\n",
              "  <div class=\"colab-df-container\">\n",
              "    <button class=\"colab-df-convert\" onclick=\"convertToInteractive('df-cf588982-5ad0-4d7d-9c32-4b4f994a7e0c')\"\n",
              "            title=\"Convert this dataframe to an interactive table.\"\n",
              "            style=\"display:none;\">\n",
              "\n",
              "  <svg xmlns=\"http://www.w3.org/2000/svg\" height=\"24px\" viewBox=\"0 -960 960 960\">\n",
              "    <path d=\"M120-120v-720h720v720H120Zm60-500h600v-160H180v160Zm220 220h160v-160H400v160Zm0 220h160v-160H400v160ZM180-400h160v-160H180v160Zm440 0h160v-160H620v160ZM180-180h160v-160H180v160Zm440 0h160v-160H620v160Z\"/>\n",
              "  </svg>\n",
              "    </button>\n",
              "\n",
              "  <style>\n",
              "    .colab-df-container {\n",
              "      display:flex;\n",
              "      gap: 12px;\n",
              "    }\n",
              "\n",
              "    .colab-df-convert {\n",
              "      background-color: #E8F0FE;\n",
              "      border: none;\n",
              "      border-radius: 50%;\n",
              "      cursor: pointer;\n",
              "      display: none;\n",
              "      fill: #1967D2;\n",
              "      height: 32px;\n",
              "      padding: 0 0 0 0;\n",
              "      width: 32px;\n",
              "    }\n",
              "\n",
              "    .colab-df-convert:hover {\n",
              "      background-color: #E2EBFA;\n",
              "      box-shadow: 0px 1px 2px rgba(60, 64, 67, 0.3), 0px 1px 3px 1px rgba(60, 64, 67, 0.15);\n",
              "      fill: #174EA6;\n",
              "    }\n",
              "\n",
              "    .colab-df-buttons div {\n",
              "      margin-bottom: 4px;\n",
              "    }\n",
              "\n",
              "    [theme=dark] .colab-df-convert {\n",
              "      background-color: #3B4455;\n",
              "      fill: #D2E3FC;\n",
              "    }\n",
              "\n",
              "    [theme=dark] .colab-df-convert:hover {\n",
              "      background-color: #434B5C;\n",
              "      box-shadow: 0px 1px 3px 1px rgba(0, 0, 0, 0.15);\n",
              "      filter: drop-shadow(0px 1px 2px rgba(0, 0, 0, 0.3));\n",
              "      fill: #FFFFFF;\n",
              "    }\n",
              "  </style>\n",
              "\n",
              "    <script>\n",
              "      const buttonEl =\n",
              "        document.querySelector('#df-cf588982-5ad0-4d7d-9c32-4b4f994a7e0c button.colab-df-convert');\n",
              "      buttonEl.style.display =\n",
              "        google.colab.kernel.accessAllowed ? 'block' : 'none';\n",
              "\n",
              "      async function convertToInteractive(key) {\n",
              "        const element = document.querySelector('#df-cf588982-5ad0-4d7d-9c32-4b4f994a7e0c');\n",
              "        const dataTable =\n",
              "          await google.colab.kernel.invokeFunction('convertToInteractive',\n",
              "                                                    [key], {});\n",
              "        if (!dataTable) return;\n",
              "\n",
              "        const docLinkHtml = 'Like what you see? Visit the ' +\n",
              "          '<a target=\"_blank\" href=https://colab.research.google.com/notebooks/data_table.ipynb>data table notebook</a>'\n",
              "          + ' to learn more about interactive tables.';\n",
              "        element.innerHTML = '';\n",
              "        dataTable['output_type'] = 'display_data';\n",
              "        await google.colab.output.renderOutput(dataTable, element);\n",
              "        const docLink = document.createElement('div');\n",
              "        docLink.innerHTML = docLinkHtml;\n",
              "        element.appendChild(docLink);\n",
              "      }\n",
              "    </script>\n",
              "  </div>\n",
              "\n",
              "\n",
              "<div id=\"df-5d945627-fb6e-4cd6-8a3f-89da3e5b9282\">\n",
              "  <button class=\"colab-df-quickchart\" onclick=\"quickchart('df-5d945627-fb6e-4cd6-8a3f-89da3e5b9282')\"\n",
              "            title=\"Suggest charts\"\n",
              "            style=\"display:none;\">\n",
              "\n",
              "<svg xmlns=\"http://www.w3.org/2000/svg\" height=\"24px\"viewBox=\"0 0 24 24\"\n",
              "     width=\"24px\">\n",
              "    <g>\n",
              "        <path d=\"M19 3H5c-1.1 0-2 .9-2 2v14c0 1.1.9 2 2 2h14c1.1 0 2-.9 2-2V5c0-1.1-.9-2-2-2zM9 17H7v-7h2v7zm4 0h-2V7h2v10zm4 0h-2v-4h2v4z\"/>\n",
              "    </g>\n",
              "</svg>\n",
              "  </button>\n",
              "\n",
              "<style>\n",
              "  .colab-df-quickchart {\n",
              "      --bg-color: #E8F0FE;\n",
              "      --fill-color: #1967D2;\n",
              "      --hover-bg-color: #E2EBFA;\n",
              "      --hover-fill-color: #174EA6;\n",
              "      --disabled-fill-color: #AAA;\n",
              "      --disabled-bg-color: #DDD;\n",
              "  }\n",
              "\n",
              "  [theme=dark] .colab-df-quickchart {\n",
              "      --bg-color: #3B4455;\n",
              "      --fill-color: #D2E3FC;\n",
              "      --hover-bg-color: #434B5C;\n",
              "      --hover-fill-color: #FFFFFF;\n",
              "      --disabled-bg-color: #3B4455;\n",
              "      --disabled-fill-color: #666;\n",
              "  }\n",
              "\n",
              "  .colab-df-quickchart {\n",
              "    background-color: var(--bg-color);\n",
              "    border: none;\n",
              "    border-radius: 50%;\n",
              "    cursor: pointer;\n",
              "    display: none;\n",
              "    fill: var(--fill-color);\n",
              "    height: 32px;\n",
              "    padding: 0;\n",
              "    width: 32px;\n",
              "  }\n",
              "\n",
              "  .colab-df-quickchart:hover {\n",
              "    background-color: var(--hover-bg-color);\n",
              "    box-shadow: 0 1px 2px rgba(60, 64, 67, 0.3), 0 1px 3px 1px rgba(60, 64, 67, 0.15);\n",
              "    fill: var(--button-hover-fill-color);\n",
              "  }\n",
              "\n",
              "  .colab-df-quickchart-complete:disabled,\n",
              "  .colab-df-quickchart-complete:disabled:hover {\n",
              "    background-color: var(--disabled-bg-color);\n",
              "    fill: var(--disabled-fill-color);\n",
              "    box-shadow: none;\n",
              "  }\n",
              "\n",
              "  .colab-df-spinner {\n",
              "    border: 2px solid var(--fill-color);\n",
              "    border-color: transparent;\n",
              "    border-bottom-color: var(--fill-color);\n",
              "    animation:\n",
              "      spin 1s steps(1) infinite;\n",
              "  }\n",
              "\n",
              "  @keyframes spin {\n",
              "    0% {\n",
              "      border-color: transparent;\n",
              "      border-bottom-color: var(--fill-color);\n",
              "      border-left-color: var(--fill-color);\n",
              "    }\n",
              "    20% {\n",
              "      border-color: transparent;\n",
              "      border-left-color: var(--fill-color);\n",
              "      border-top-color: var(--fill-color);\n",
              "    }\n",
              "    30% {\n",
              "      border-color: transparent;\n",
              "      border-left-color: var(--fill-color);\n",
              "      border-top-color: var(--fill-color);\n",
              "      border-right-color: var(--fill-color);\n",
              "    }\n",
              "    40% {\n",
              "      border-color: transparent;\n",
              "      border-right-color: var(--fill-color);\n",
              "      border-top-color: var(--fill-color);\n",
              "    }\n",
              "    60% {\n",
              "      border-color: transparent;\n",
              "      border-right-color: var(--fill-color);\n",
              "    }\n",
              "    80% {\n",
              "      border-color: transparent;\n",
              "      border-right-color: var(--fill-color);\n",
              "      border-bottom-color: var(--fill-color);\n",
              "    }\n",
              "    90% {\n",
              "      border-color: transparent;\n",
              "      border-bottom-color: var(--fill-color);\n",
              "    }\n",
              "  }\n",
              "</style>\n",
              "\n",
              "  <script>\n",
              "    async function quickchart(key) {\n",
              "      const quickchartButtonEl =\n",
              "        document.querySelector('#' + key + ' button');\n",
              "      quickchartButtonEl.disabled = true;  // To prevent multiple clicks.\n",
              "      quickchartButtonEl.classList.add('colab-df-spinner');\n",
              "      try {\n",
              "        const charts = await google.colab.kernel.invokeFunction(\n",
              "            'suggestCharts', [key], {});\n",
              "      } catch (error) {\n",
              "        console.error('Error during call to suggestCharts:', error);\n",
              "      }\n",
              "      quickchartButtonEl.classList.remove('colab-df-spinner');\n",
              "      quickchartButtonEl.classList.add('colab-df-quickchart-complete');\n",
              "    }\n",
              "    (() => {\n",
              "      let quickchartButtonEl =\n",
              "        document.querySelector('#df-5d945627-fb6e-4cd6-8a3f-89da3e5b9282 button');\n",
              "      quickchartButtonEl.style.display =\n",
              "        google.colab.kernel.accessAllowed ? 'block' : 'none';\n",
              "    })();\n",
              "  </script>\n",
              "</div>\n",
              "    </div>\n",
              "  </div>\n"
            ]
          },
          "metadata": {},
          "execution_count": 3
        }
      ]
    },
    {
      "cell_type": "code",
      "execution_count": null,
      "metadata": {
        "id": "2SFndT-ppTKF"
      },
      "outputs": [],
      "source": [
        "def setup(number_of_clusters, number_of_clients_in_each_cluster):\n",
        "  list_data = data.values.tolist()\n",
        "  total_clients = number_of_clusters * number_of_clients_in_each_cluster\n",
        "  data_per_client = math.floor(len(list_data)/total_clients)\n",
        "  curr_counter = 0\n",
        "  cluster_client_data = []\n",
        "  for i in range(number_of_clusters):\n",
        "    cluster_data = []\n",
        "    for j in range(number_of_clients_in_each_cluster):\n",
        "      curr_client_data = []\n",
        "      for k in range(data_per_client):\n",
        "        curr_client_data.append(list_data[curr_counter])\n",
        "        curr_counter = curr_counter+1\n",
        "      cluster_data.append(curr_client_data)\n",
        "    cluster_client_data.append(cluster_data)\n",
        "  return cluster_client_data"
      ]
    },
    {
      "cell_type": "code",
      "source": [
        "ultimate_data = setup(3, 2)"
      ],
      "metadata": {
        "id": "B4fP1drUtiKa"
      },
      "execution_count": null,
      "outputs": []
    },
    {
      "cell_type": "code",
      "source": [
        "def data_preperation_for_model_training(cluster_number, client_number_of_that_cluster):\n",
        "  working_data = ultimate_data[cluster_number][client_number_of_that_cluster]\n",
        "  X_list = []\n",
        "  y_list = []\n",
        "  for each_data in working_data:\n",
        "    temp = []\n",
        "    for i in range(11):\n",
        "      temp.append(each_data[i])\n",
        "    X_list.append(temp)\n",
        "    y_list.append(each_data[11])\n",
        "\n",
        "  X = np.asarray(X_list, dtype=np.float32)\n",
        "  y = np.asarray(y_list, dtype=np.float32)\n",
        "  return (X, y)"
      ],
      "metadata": {
        "id": "Nj_RFv264ztX"
      },
      "execution_count": null,
      "outputs": []
    },
    {
      "cell_type": "code",
      "source": [
        "def make_model():\n",
        "  # Create a Sequential model\n",
        "  model = Sequential()\n",
        "\n",
        "  # Add a dense (fully connected) layer with 11 input units and 8 hidden units\n",
        "  model.add(Dense(8, input_dim=11, activation='relu'))\n",
        "\n",
        "  # Add a dense layer with 16 hidden units\n",
        "  model.add(Dense(16, activation='relu'))\n",
        "\n",
        "  # Add a dense layer with 32 hidden units\n",
        "  model.add(Dense(32, activation='relu'))\n",
        "\n",
        "  # Add a dense layer with 16 hidden units\n",
        "  model.add(Dense(16, activation='relu'))\n",
        "\n",
        "  # Add a dense layer with 8 hidden units\n",
        "  model.add(Dense(8, activation='relu'))\n",
        "\n",
        "  # Add another dense layer with 4 hidden units\n",
        "  model.add(Dense(4, activation='relu'))\n",
        "\n",
        "  # Add the output layer with 1 unit and a sigmoid activation function (for binary classification)\n",
        "  model.add(Dense(1, activation='sigmoid'))\n",
        "\n",
        "  return model"
      ],
      "metadata": {
        "id": "KS6e9ZLa5McQ"
      },
      "execution_count": null,
      "outputs": []
    },
    {
      "cell_type": "code",
      "source": [
        "# global model (updated)\n",
        "current_model = make_model()"
      ],
      "metadata": {
        "id": "ihnynrkJ59BY"
      },
      "execution_count": null,
      "outputs": []
    },
    {
      "cell_type": "code",
      "source": [
        "current_model.summary()"
      ],
      "metadata": {
        "colab": {
          "base_uri": "https://localhost:8080/"
        },
        "id": "BTwZvcw3Pzmg",
        "outputId": "e321aa8c-04de-4f12-d3b1-fd41fa99d98c"
      },
      "execution_count": null,
      "outputs": [
        {
          "output_type": "stream",
          "name": "stdout",
          "text": [
            "Model: \"sequential\"\n",
            "_________________________________________________________________\n",
            " Layer (type)                Output Shape              Param #   \n",
            "=================================================================\n",
            " dense (Dense)               (None, 8)                 96        \n",
            "                                                                 \n",
            " dense_1 (Dense)             (None, 16)                144       \n",
            "                                                                 \n",
            " dense_2 (Dense)             (None, 32)                544       \n",
            "                                                                 \n",
            " dense_3 (Dense)             (None, 16)                528       \n",
            "                                                                 \n",
            " dense_4 (Dense)             (None, 8)                 136       \n",
            "                                                                 \n",
            " dense_5 (Dense)             (None, 4)                 36        \n",
            "                                                                 \n",
            " dense_6 (Dense)             (None, 1)                 5         \n",
            "                                                                 \n",
            "=================================================================\n",
            "Total params: 1,489\n",
            "Trainable params: 1,489\n",
            "Non-trainable params: 0\n",
            "_________________________________________________________________\n"
          ]
        }
      ]
    },
    {
      "cell_type": "code",
      "source": [
        "# visualize the model\n",
        "from tensorflow.keras.utils import plot_model\n",
        "plot_model(current_model, to_file='model_plot.png', show_shapes=True, show_layer_names=True)"
      ],
      "metadata": {
        "colab": {
          "base_uri": "https://localhost:8080/",
          "height": 865
        },
        "id": "u7xAGBl-Pvuz",
        "outputId": "a5c22dfe-9e2f-438c-d97e-ed50b85dfa3b"
      },
      "execution_count": null,
      "outputs": [
        {
          "output_type": "execute_result",
          "data": {
            "image/png": "[encoded data removed]",
            "text/plain": [
              "<IPython.core.display.Image object>"
            ]
          },
          "metadata": {},
          "execution_count": 10
        }
      ]
    },
    {
      "cell_type": "code",
      "source": [
        "def accuracy_loss_graph_plotting(model, cluster_number, client_number):\n",
        "\n",
        "  # summarize history for accuracy\n",
        "  plt.plot(model.history.history['accuracy'])\n",
        "  plt.title(f'cluster: {cluster_number} :: client {client_number} :: model accuracy')\n",
        "  plt.ylabel('accuracy')\n",
        "  plt.xlabel('epoch')\n",
        "  plt.legend(['Train'], loc='upper left')\n",
        "  plt.show()\n",
        "\n",
        "  # summarize history for loss\n",
        "  plt.plot(model.history.history['loss'])\n",
        "  plt.title(f'cluster: {cluster_number} :: client {client_number} :: model loss')\n",
        "  plt.ylabel('loss')\n",
        "  plt.xlabel('epoch')\n",
        "  plt.legend(['Train'], loc='upper left')\n",
        "  plt.show()"
      ],
      "metadata": {
        "id": "KXBOc_xClGVD"
      },
      "execution_count": null,
      "outputs": []
    },
    {
      "cell_type": "code",
      "source": [
        "from tensorflow.keras.optimizers import SGD\n",
        "def latest_model_training(cluster_number, client_number, X, y, latest_model, epochs, batch_size):\n",
        "  # Compile the model\n",
        "  sgd = SGD(learning_rate=0.1, momentum=0.9)\n",
        "  latest_model.compile(loss='binary_crossentropy', optimizer=sgd, metrics=['accuracy'])\n",
        "\n",
        "  # Train the model on your data\n",
        "  latest_model.fit(X, y, epochs=epochs, batch_size=batch_size)\n",
        "\n",
        "  # graph plotting\n",
        "  accuracy_loss_graph_plotting(latest_model, cluster_number, client_number)\n",
        "\n",
        "  # Evaluate the model\n",
        "  loss, accuracy = latest_model.evaluate(X, y)\n",
        "  print(f'Loss: {loss:.2f}, Accuracy: {accuracy*100:.2f}%')\n",
        "\n",
        "  return latest_model"
      ],
      "metadata": {
        "id": "wz5R0b5kuaz8"
      },
      "execution_count": null,
      "outputs": []
    },
    {
      "cell_type": "code",
      "source": [
        "def cluster_selection_algorithm(number_of_clusters, number_of_clusters_every_iteration):\n",
        "  selected_clusters = []\n",
        "  count = 0\n",
        "  while(count<number_of_clusters_every_iteration):\n",
        "    current_cluster_number = random.randint(0, number_of_clusters-1)\n",
        "    if current_cluster_number not in selected_clusters:\n",
        "      selected_clusters.append(current_cluster_number)\n",
        "      count = count + 1\n",
        "  return selected_clusters"
      ],
      "metadata": {
        "id": "urFg6wIEGwdF"
      },
      "execution_count": null,
      "outputs": []
    },
    {
      "cell_type": "code",
      "source": [
        "def model_aggregation(list_of_models):\n",
        "  # implementing fedavg algorithm: https://www.codespeedy.com/get_weights-and-set_weights-functions-in-keras-layers/\n",
        "\n",
        "  updated_model = list_of_models[0]\n",
        "\n",
        "  # jot down all the weights and the biases of the model as the form of numpy array\n",
        "  all_layers = []\n",
        "  all_biases = []\n",
        "  for curr_model in list_of_models:\n",
        "    intermediate_layers = []\n",
        "    intermediate_biases = []\n",
        "    for layer in curr_model.layers:\n",
        "      intermediate_layers.append(layer.get_weights()[0])\n",
        "      intermediate_biases.append(layer.get_weights()[1])\n",
        "    all_layers.append(intermediate_layers)\n",
        "    all_biases.append(intermediate_biases)\n",
        "\n",
        "  # avg the weights\n",
        "  updated_layers = []\n",
        "  for col in range(len(all_layers[0])):\n",
        "    sum_layers = all_layers[0][col]\n",
        "    for row in range(1, len(all_layers)):\n",
        "      sum_layers = np.add(sum_layers, all_layers[row][col])\n",
        "    avg_layer_weight = np.divide(sum_layers, len(all_layers))\n",
        "    updated_layers.append(avg_layer_weight)\n",
        "\n",
        "  # avg the biases\n",
        "  updated_biases = []\n",
        "  for col in range(len(all_biases[0])):\n",
        "    sum_biases = all_biases[0][col]\n",
        "    for row in range(1, len(all_biases)):\n",
        "      sum_biases = np.add(sum_biases, all_biases[row][col])\n",
        "    avg_biases_weight = np.divide(sum_biases, len(all_biases))\n",
        "    updated_biases.append(avg_biases_weight)\n",
        "\n",
        "  # usning set_weights() to update the weights\n",
        "  count = 0\n",
        "  for layer in updated_model.layers:\n",
        "    layer.set_weights([updated_layers[count], updated_biases[count]])\n",
        "    count = count + 1\n",
        "\n",
        "  return updated_model"
      ],
      "metadata": {
        "id": "IR1jT0MgG4ns"
      },
      "execution_count": null,
      "outputs": []
    },
    {
      "cell_type": "code",
      "source": [
        "def train_client(cluster_number, client_number, latest_model, epochs, batch_size):\n",
        "  # prepare the data for this particular client\n",
        "  (X, y) = data_preperation_for_model_training(cluster_number, client_number)\n",
        "\n",
        "  # model training for this client\n",
        "  updated_model = latest_model_training(cluster_number, client_number, X, y, latest_model, epochs, batch_size)\n",
        "\n",
        "  #return the updated model\n",
        "  return updated_model"
      ],
      "metadata": {
        "id": "JdUbvYHlM4CT"
      },
      "execution_count": null,
      "outputs": []
    },
    {
      "cell_type": "code",
      "source": [
        "def CFL(iterations, epochs, batch_size, number_of_clusters, number_of_clients_in_each_cluster, number_of_clusters_every_iteration):\n",
        "  if(number_of_clusters_every_iteration>number_of_clusters):\n",
        "    raise Exception(\"Number of clusters in every iteration have to be less or equals to the total number of available clusters for the setup\")\n",
        "\n",
        "  for itr in range(iterations):\n",
        "    global current_model\n",
        "\n",
        "    # get the updated model\n",
        "    latest_mdoel = current_model\n",
        "\n",
        "    # select the cluster\n",
        "    selected_clusters = cluster_selection_algorithm(number_of_clusters, number_of_clusters_every_iteration)\n",
        "\n",
        "    cluster_level_aggregated_model = []\n",
        "\n",
        "\n",
        "    for curr_cluster_number in selected_clusters:\n",
        "      client_trained_model_for_single_cluster = []\n",
        "\n",
        "      for curr_client_number in range(number_of_clients_in_each_cluster):\n",
        "        updated_model = train_client(curr_cluster_number, curr_client_number, latest_mdoel, epochs, batch_size)\n",
        "        client_trained_model_for_single_cluster.append(updated_model)\n",
        "\n",
        "      # cluster level aggregation\n",
        "      aggregated_model = model_aggregation(client_trained_model_for_single_cluster)\n",
        "\n",
        "      cluster_level_aggregated_model.append(aggregated_model)\n",
        "\n",
        "    global_aggregated_model = model_aggregation(cluster_level_aggregated_model)\n",
        "\n",
        "    # update the current model\n",
        "    current_model = global_aggregated_model"
      ],
      "metadata": {
        "id": "-0PVMIhOvVah"
      },
      "execution_count": null,
      "outputs": []
    },
    {
      "cell_type": "code",
      "source": [
        "CFL(10, 100, 10, 3, 2, 2)"
      ],
      "metadata": {
        "colab": {
          "base_uri": "https://localhost:8080/",
          "height": 1000
        },
        "id": "sE_Y6P6fO-vW",
        "outputId": "d5f5cdec-51bc-4a3b-f672-460103ecb4ec"
      },
      "execution_count": null,
      "outputs": []
    },
    {
      "cell_type": "code",
      "source": [
        "def test_the_gloabl_model():\n",
        "  # prepare the whole dataset for the testing\n",
        "  X_list = []\n",
        "  y_list = []\n",
        "  list_data = data.values.tolist()\n",
        "  for each_data in list_data:\n",
        "    temp = []\n",
        "    for i in range(11):\n",
        "      temp.append(each_data[i])\n",
        "    X_list.append(temp)\n",
        "    y_list.append(each_data[11])\n",
        "\n",
        "  X = np.asarray(X_list, dtype=np.float32)\n",
        "  y = np.asarray(y_list, dtype=np.float32)\n",
        "\n",
        "  # test the latest model\n",
        "  global current_model\n",
        "  latest_model = current_model\n",
        "  latest_model.compile(loss='binary_crossentropy', optimizer='adam', metrics=['accuracy'])\n",
        "\n",
        "  # confusion matrix creation\n",
        "  y_pred = latest_model.predict(X)\n",
        "  y_pred_ultimate = []\n",
        "  for each_ele in y_pred:\n",
        "    if(each_ele[0]>=0.5): y_pred_ultimate.append(1.0)\n",
        "    else: y_pred_ultimate.append(0.0)\n",
        "  y_pred_ultimate = np.array(y_pred_ultimate)\n",
        "  cm = confusion_matrix(y, y_pred_ultimate)\n",
        "\n",
        "  cm_df = pd.DataFrame(cm,\n",
        "                     index = ['NORMAL','HEART DISEASE'],\n",
        "                     columns = ['NORMAL','HEART DISEASE'])\n",
        "\n",
        "  plt.figure(figsize=(5,4))\n",
        "  sns.heatmap(cm_df, annot=True)\n",
        "  plt.title('Confusion Matrix')\n",
        "  plt.ylabel('Actal Values')\n",
        "  plt.xlabel('Predicted Values')\n",
        "  plt.show()\n",
        "\n",
        "  # Evaluate the model\n",
        "  loss, accuracy = latest_model.evaluate(X, y)\n",
        "  print(f'Loss: {loss:.2f}, Accuracy: {accuracy*100:.2f}%')"
      ],
      "metadata": {
        "id": "Uq6iy0bnWhbT"
      },
      "execution_count": null,
      "outputs": []
    },
    {
      "cell_type": "code",
      "source": [
        "test_the_gloabl_model()"
      ],
      "metadata": {
        "colab": {
          "base_uri": "https://localhost:8080/",
          "height": 462
        },
        "id": "7pfA6QY3AcRp",
        "outputId": "d10589b8-6ef8-41e4-cba7-aec8f535aaf7"
      },
      "execution_count": null,
      "outputs": [
        {
          "output_type": "stream",
          "name": "stdout",
          "text": [
            "29/29 [==============================] - 0s 2ms/step\n"
          ]
        },
        {
          "output_type": "display_data",
          "data": {
            "text/plain": [
              "<Figure size 500x400 with 2 Axes>"
            ],
            "image/png": "[encoded data removed]"
          },
          "metadata": {}
        },
        {
          "output_type": "stream",
          "name": "stdout",
          "text": [
            "29/29 [==============================] - 0s 2ms/step - loss: 0.7721 - accuracy: 0.4466\n",
            "Loss: 0.77, Accuracy: 44.66%\n"
          ]
        }
      ]
    },
    {
      "cell_type": "code",
      "source": [],
      "metadata": {
        "id": "yOO_qFAbBPMh"
      },
      "execution_count": null,
      "outputs": []
    }
  ]
}